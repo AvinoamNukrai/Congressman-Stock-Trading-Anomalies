{
 "cells": [
  {
   "cell_type": "markdown",
   "metadata": {},
   "source": [
    "# Imports"
   ]
  },
  {
   "cell_type": "code",
   "execution_count": null,
   "metadata": {},
   "outputs": [
    {
     "name": "stdout",
     "output_type": "stream",
     "text": [
      "/Users/deantahory/code/university_code\n",
      "/Users/deantahory/code/university_code/ids_project/data\n"
     ]
    }
   ],
   "source": [
    "import os\n",
    "\n",
    "print(os.path.dirname(os.getcwd()))\n",
    "print(os.path.join(os.getcwd(), \"data\"))"
   ]
  },
  {
   "cell_type": "code",
   "execution_count": 15,
   "metadata": {},
   "outputs": [],
   "source": [
    "import pandas as pd\n",
    "\n",
    "house = pd.read_excel(\"data/house_assignments_103-115-3.xls\")\n",
    "senate = pd.read_excel(\"data/senate_assignments_103-115-3.xls\")\n",
    "house_members = pd.read_excel(\"data/house_members_103-115-2.xlsx\", header=1)\n",
    "senate_memebers = pd.read_excel(\"data/senators_103-115-2.xls\", header=1)\n"
   ]
  },
  {
   "cell_type": "markdown",
   "metadata": {},
   "source": [
    "# Filtering"
   ]
  },
  {
   "cell_type": "markdown",
   "metadata": {},
   "source": [
    "### Filter congressman of the 115th Congress"
   ]
  },
  {
   "cell_type": "code",
   "execution_count": null,
   "metadata": {},
   "outputs": [],
   "source": [
    "senate = senate[(senate[\"Congress\"] == 115)]\n",
    "house = house[(house[\"Congress\"] == 115)]\n",
    "house_members = house_members[(house_members[\"cong\"] == 115)]\n",
    "senate_memebers = senate_memebers[(senate_memebers[\"Congress\"] == 115)]"
   ]
  },
  {
   "cell_type": "code",
   "execution_count": 27,
   "metadata": {},
   "outputs": [],
   "source": [
    "house_politicians = house[(house[\"Congress\"] == 115)][\"Name\"].unique()"
   ]
  },
  {
   "cell_type": "code",
   "execution_count": 28,
   "metadata": {},
   "outputs": [
    {
     "data": {
      "text/plain": [
       "444"
      ]
     },
     "execution_count": 28,
     "metadata": {},
     "output_type": "execute_result"
    }
   ],
   "source": [
    "len(house_politicians)"
   ]
  }
 ],
 "metadata": {
  "kernelspec": {
   "display_name": ".venv",
   "language": "python",
   "name": "python3"
  },
  "language_info": {
   "codemirror_mode": {
    "name": "ipython",
    "version": 3
   },
   "file_extension": ".py",
   "mimetype": "text/x-python",
   "name": "python",
   "nbconvert_exporter": "python",
   "pygments_lexer": "ipython3",
   "version": "3.12.5"
  }
 },
 "nbformat": 4,
 "nbformat_minor": 2
}
